{
 "cells": [
  {
   "cell_type": "code",
   "execution_count": null,
   "metadata": {},
   "outputs": [
    {
     "ename": "",
     "evalue": "",
     "output_type": "error",
     "traceback": [
      "\u001b[1;31mFailed to start the Kernel. \n",
      "Traceback (most recent call last):\n",
      "  File \"/Users/jaideepgarlyal/.vscode/extensions/ms-toolsai.jupyter-2022.3.1000901801/pythonFiles/vscode_datascience_helpers/daemon/daemon_python.py\", line 54, in _decorator\n",
      "    return func(self, *args, **kwargs)\n",
      "  File \"/Users/jaideepgarlyal/.vscode/extensions/ms-toolsai.jupyter-2022.3.1000901801/pythonFiles/vscode_datascience_helpers/jupyter_daemon.py\", line 108, in m_exec_module_observable\n",
      "    self._start_notebook(args, cwd, env)\n",
      "  File \"/Users/jaideepgarlyal/.vscode/extensions/ms-toolsai.jupyter-2022.3.1000901801/pythonFiles/vscode_datascience_helpers/jupyter_daemon.py\", line 154, in _start_notebook\n",
      "    from notebook import notebookapp as app\n",
      "ImportError: cannot import name 'notebookapp' from 'notebook' (/Users/jaideepgarlyal/Library/Python/3.9/lib/python/site-packages/notebook/__init__.py)\n",
      "\n",
      "Failed to run jupyter as observable with args notebook --no-browser --notebook-dir=\"/Users/jaideepgarlyal/Desktop/SPARK\" --KernelManager.autorestart=False --config=/var/folders/v7/1_4d1g0n5v37m9pr88tj98k00000gn/T/b2044cfb-74b5-46dd-8c66-bf93f439d0ba/jupyter_notebook_config.py --NotebookApp.iopub_data_rate_limit=10000000000.0. \n",
      "View Jupyter <a href='command:jupyter.viewOutput'>log</a> for further details."
     ]
    }
   ],
   "source": [
    "!pip install nest_asyncio\n",
    "\n",
    "# fixes a bug with asyncio and jupyter\n",
    "import nest_asyncio\n",
    "\n",
    "nest_asyncio.apply()"
   ]
  },
  {
   "attachments": {},
   "cell_type": "markdown",
   "metadata": {},
   "source": [
    "We could use Langchain's SitemapLoader, however this would load all webpages, but we want to selectively curate what data is indexed in our KB. \n",
    "Reference - https://python.langchain.com/docs/modules/data_connection/document_loaders/integrations/sitemap"
   ]
  },
  {
   "cell_type": "code",
   "execution_count": null,
   "metadata": {},
   "outputs": [
    {
     "ename": "",
     "evalue": "",
     "output_type": "error",
     "traceback": [
      "\u001b[1;31mFailed to start the Kernel. \n",
      "Traceback (most recent call last):\n",
      "  File \"/Users/jaideepgarlyal/.vscode/extensions/ms-toolsai.jupyter-2022.3.1000901801/pythonFiles/vscode_datascience_helpers/daemon/daemon_python.py\", line 54, in _decorator\n",
      "    return func(self, *args, **kwargs)\n",
      "  File \"/Users/jaideepgarlyal/.vscode/extensions/ms-toolsai.jupyter-2022.3.1000901801/pythonFiles/vscode_datascience_helpers/jupyter_daemon.py\", line 108, in m_exec_module_observable\n",
      "    self._start_notebook(args, cwd, env)\n",
      "  File \"/Users/jaideepgarlyal/.vscode/extensions/ms-toolsai.jupyter-2022.3.1000901801/pythonFiles/vscode_datascience_helpers/jupyter_daemon.py\", line 154, in _start_notebook\n",
      "    from notebook import notebookapp as app\n",
      "ImportError: cannot import name 'notebookapp' from 'notebook' (/Users/jaideepgarlyal/Library/Python/3.9/lib/python/site-packages/notebook/__init__.py)\n",
      "\n",
      "Failed to run jupyter as observable with args notebook --no-browser --notebook-dir=\"/Users/jaideepgarlyal/Desktop/SPARK\" --KernelManager.autorestart=False --config=/var/folders/v7/1_4d1g0n5v37m9pr88tj98k00000gn/T/a08b7a4c-e155-4af4-bc79-e872e7852a37/jupyter_notebook_config.py --NotebookApp.iopub_data_rate_limit=10000000000.0. \n",
      "View Jupyter <a href='command:jupyter.viewOutput'>log</a> for further details."
     ]
    }
   ],
   "source": [
    "from langchain.document_loaders.sitemap import SitemapLoader\n",
    "sitemap_loader = SitemapLoader(web_path=\"https://learnprompting.org/sitemap.xml\")\n",
    "\n",
    "docs = sitemap_loader.load()\n",
    "docs[:5]"
   ]
  },
  {
   "cell_type": "code",
   "execution_count": null,
   "metadata": {},
   "outputs": [
    {
     "ename": "",
     "evalue": "",
     "output_type": "error",
     "traceback": [
      "\u001b[1;31mFailed to start the Kernel. \n",
      "Traceback (most recent call last):\n",
      "  File \"/Users/jaideepgarlyal/.vscode/extensions/ms-toolsai.jupyter-2022.3.1000901801/pythonFiles/vscode_datascience_helpers/daemon/daemon_python.py\", line 54, in _decorator\n",
      "    return func(self, *args, **kwargs)\n",
      "  File \"/Users/jaideepgarlyal/.vscode/extensions/ms-toolsai.jupyter-2022.3.1000901801/pythonFiles/vscode_datascience_helpers/jupyter_daemon.py\", line 108, in m_exec_module_observable\n",
      "    self._start_notebook(args, cwd, env)\n",
      "  File \"/Users/jaideepgarlyal/.vscode/extensions/ms-toolsai.jupyter-2022.3.1000901801/pythonFiles/vscode_datascience_helpers/jupyter_daemon.py\", line 154, in _start_notebook\n",
      "    from notebook import notebookapp as app\n",
      "ImportError: cannot import name 'notebookapp' from 'notebook' (/Users/jaideepgarlyal/Library/Python/3.9/lib/python/site-packages/notebook/__init__.py)\n",
      "\n",
      "Failed to run jupyter as observable with args notebook --no-browser --notebook-dir=\"/Users/jaideepgarlyal/Desktop/SPARK\" --KernelManager.autorestart=False --config=/var/folders/v7/1_4d1g0n5v37m9pr88tj98k00000gn/T/a08b7a4c-e155-4af4-bc79-e872e7852a37/jupyter_notebook_config.py --NotebookApp.iopub_data_rate_limit=10000000000.0. \n",
      "View Jupyter <a href='command:jupyter.viewOutput'>log</a> for further details."
     ]
    }
   ],
   "source": [
    "urls = [\"https://platform.openai.com/docs/guides/gpt-best-practices\",\n",
    "\"https://lilianweng.github.io/posts/2023-03-15-prompt-engineering/\",\n",
    "\"https://github.com/brexhq/prompt-engineering\",\n",
    "\"http://promptingguide.ai//\",\n",
    "\"http://promptingguide.ai//course\",\n",
    "\"http://promptingguide.ai//about\",\n",
    "\"http://promptingguide.ai//introduction\",\n",
    "\"http://promptingguide.ai//introduction/settings\",\n",
    "\"http://promptingguide.ai//introduction/basics\",\n",
    "\"http://promptingguide.ai//introduction/elements\",\n",
    "\"http://promptingguide.ai//introduction/tips\",\n",
    "\"http://promptingguide.ai//introduction/examples\",\n",
    "\"http://promptingguide.ai//techniques\",\n",
    "\"http://promptingguide.ai//techniques/zeroshot\",\n",
    "\"http://promptingguide.ai//techniques/fewshot\",\n",
    "\"http://promptingguide.ai//techniques/cot\",\n",
    "\"http://promptingguide.ai//techniques/consistency\",\n",
    "\"http://promptingguide.ai//techniques/knowledge\",\n",
    "\"http://promptingguide.ai//techniques/tot\",\n",
    "\"http://promptingguide.ai//techniques/rag\",\n",
    "\"http://promptingguide.ai//techniques/art\",\n",
    "\"http://promptingguide.ai//techniques/ape\",\n",
    "\"http://promptingguide.ai//techniques/activeprompt\",\n",
    "\"http://promptingguide.ai//techniques/dsp\",\n",
    "\"http://promptingguide.ai//techniques/react\",\n",
    "\"http://promptingguide.ai//techniques/multimodalcot\",\n",
    "\"http://promptingguide.ai//techniques/graph\",\n",
    "\"http://promptingguide.ai//applications\",\n",
    "\"http://promptingguide.ai//applications/pal\",\n",
    "\"http://promptingguide.ai//applications/generating\",\n",
    "\"http://promptingguide.ai//applications/coding\",\n",
    "\"http://promptingguide.ai//applications/workplace_casestudy\",\n",
    "\"http://promptingguide.ai//applications/pf\",\n",
    "\"http://promptingguide.ai//models\",\n",
    "\"http://promptingguide.ai//models/flan\",\n",
    "\"http://promptingguide.ai//models/chatgpt\",\n",
    "\"http://promptingguide.ai//models/llama\",\n",
    "\"http://promptingguide.ai//models/gpt-4\",\n",
    "\"http://promptingguide.ai//models/collection\",\n",
    "\"http://promptingguide.ai//risks\",\n",
    "\"http://promptingguide.ai//risks/adversarial\",\n",
    "\"http://promptingguide.ai//risks/factuality\",\n",
    "\"http://promptingguide.ai//risks/biases\",\n",
    "\"http://promptingguide.ai//papers\",\n",
    "\"http://promptingguide.ai//tools\",\n",
    "\"http://promptingguide.ai//notebooks\",\n",
    "\"http://promptingguide.ai//datasets\",\n",
    "\"http://promptingguide.ai//readings\",\n",
    "\"https://learnprompting.org/blog/2022/12/20/prompt-injection-competition\",\n",
    "\"https://learnprompting.org/blog/archive\",\n",
    "\"https://learnprompting.org/contribute\",\n",
    "\"https://learnprompting.org/discord\",\n",
    "\"https://learnprompting.org/forkme\",\n",
    "\"https://learnprompting.org/docs/additional\",\n",
    "\"https://learnprompting.org/docs/advanced_applications/mrkl\",\n",
    "\"https://learnprompting.org/docs/advanced_applications/overview\",\n",
    "\"https://learnprompting.org/docs/advanced_applications/pal\",\n",
    "\"https://learnprompting.org/docs/advanced_applications/react\",\n",
    "\"https://learnprompting.org/docs/applied_prompting/build_chatbot_from_kb\",\n",
    "\"https://learnprompting.org/docs/applied_prompting/build_chatgpt\",\n",
    "\"https://learnprompting.org/docs/applied_prompting/mc_tutorial\",\n",
    "\"https://learnprompting.org/docs/applied_prompting/overview\",\n",
    "\"https://learnprompting.org/docs/applied_prompting/short_response\",\n",
    "\"https://learnprompting.org/docs/basic_applications/blog_generation\",\n",
    "\"https://learnprompting.org/docs/basic_applications/coding_assistance\",\n",
    "\"https://learnprompting.org/docs/basic_applications/contracts\",\n",
    "\"https://learnprompting.org/docs/basic_applications/emojis\",\n",
    "\"https://learnprompting.org/docs/basic_applications/introduction\",\n",
    "\"https://learnprompting.org/docs/basic_applications/study_tool\",\n",
    "\"https://learnprompting.org/docs/basic_applications/summarize\",\n",
    "\"https://learnprompting.org/docs/basic_applications/table_generation\",\n",
    "\"https://learnprompting.org/docs/basic_applications/writing_emails\",\n",
    "\"https://learnprompting.org/docs/basic_applications/writing_in_diff_voices\",\n",
    "\"https://learnprompting.org/docs/basic_applications/zapier_for_emails\",\n",
    "\"https://learnprompting.org/docs/basics/chatbot_basics\",\n",
    "\"https://learnprompting.org/docs/basics/combining_techniques\",\n",
    "\"https://learnprompting.org/docs/basics/configuration_hyperparameters\",\n",
    "\"https://learnprompting.org/docs/basics/few_shot\",\n",
    "\"https://learnprompting.org/docs/basics/formalizing\",\n",
    "\"https://learnprompting.org/docs/basics/instructions\",\n",
    "\"https://learnprompting.org/docs/basics/intro\",\n",
    "\"https://learnprompting.org/docs/basics/pitfalls\",\n",
    "\"https://learnprompting.org/docs/basics/prompting\",\n",
    "\"https://learnprompting.org/docs/basics/roles\",\n",
    "\"https://learnprompting.org/docs/basics/starting_your_journey\",\n",
    "\"https://learnprompting.org/docs/basics/world\",\n",
    "\"https://learnprompting.org/docs/bibliography\",\n",
    "\"https://learnprompting.org/docs/category/-advanced-applications\",\n",
    "\"https://learnprompting.org/docs/category/-applied-prompting\",\n",
    "\"https://learnprompting.org/docs/category/-basic-applications\",\n",
    "\"https://learnprompting.org/docs/category/-basics\",\n",
    "\"https://learnprompting.org/docs/category/-defensive-measures\",\n",
    "\"https://learnprompting.org/docs/category/-miscellaneous\",\n",
    "\"https://learnprompting.org/docs/category/-offensive-measures\",\n",
    "\"https://learnprompting.org/docs/category/-prompt-hacking\",\n",
    "\"https://learnprompting.org/docs/category/-prompt-tuning\",\n",
    "\"https://learnprompting.org/docs/category/-tooling\",\n",
    "\"https://learnprompting.org/docs/category/prompt-engineering-ides\",\n",
    "\"https://learnprompting.org/docs/credits\",\n",
    "\"https://learnprompting.org/docs/hot_topics\",\n",
    "\"https://learnprompting.org/docs/Images/fix_deformed_generations\",\n",
    "\"https://learnprompting.org/docs/Images/intro\",\n",
    "\"https://learnprompting.org/docs/Images/midjourney\",\n",
    "\"https://learnprompting.org/docs/Images/quality_boosters\",\n",
    "\"https://learnprompting.org/docs/Images/repetition\",\n",
    "\"https://learnprompting.org/docs/Images/resources\",\n",
    "\"https://learnprompting.org/docs/Images/style_modifiers\",\n",
    "\"https://learnprompting.org/docs/Images/weighted_terms\",\n",
    "\"https://learnprompting.org/docs/intermediate/chain_of_thought\",\n",
    "\"https://learnprompting.org/docs/intermediate/generated_knowledge\",\n",
    "\"https://learnprompting.org/docs/intermediate/least_to_most\",\n",
    "\"https://learnprompting.org/docs/intermediate/self_consistency\",\n",
    "\"https://learnprompting.org/docs/intermediate/whats_in_a_prompt\",\n",
    "\"https://learnprompting.org/docs/intermediate/zero_shot_cot\",\n",
    "\"https://learnprompting.org/docs/intro\",\n",
    "\"https://learnprompting.org/docs/miscl/detect\",\n",
    "\"https://learnprompting.org/docs/miscl/music\",\n",
    "\"https://learnprompting.org/docs/miscl/trickery\",\n",
    "\"https://learnprompting.org/docs/products\",\n",
    "\"https://learnprompting.org/docs/prompt_hacking/defensive_measures/filtering\",\n",
    "\"https://learnprompting.org/docs/prompt_hacking/defensive_measures/instruction\",\n",
    "\"https://learnprompting.org/docs/prompt_hacking/defensive_measures/llm_eval\",\n",
    "\"https://learnprompting.org/docs/prompt_hacking/defensive_measures/other\",\n",
    "\"https://learnprompting.org/docs/prompt_hacking/defensive_measures/overview\",\n",
    "\"https://learnprompting.org/docs/prompt_hacking/defensive_measures/post_prompting\",\n",
    "\"https://learnprompting.org/docs/prompt_hacking/defensive_measures/random_sequence\",\n",
    "\"https://learnprompting.org/docs/prompt_hacking/defensive_measures/sandwich_defense\",\n",
    "\"https://learnprompting.org/docs/prompt_hacking/defensive_measures/xml_tagging\",\n",
    "\"https://learnprompting.org/docs/prompt_hacking/injection\",\n",
    "\"https://learnprompting.org/docs/prompt_hacking/intro\",\n",
    "\"https://learnprompting.org/docs/prompt_hacking/jailbreaking\",\n",
    "\"https://learnprompting.org/docs/prompt_hacking/leaking\",\n",
    "\"https://learnprompting.org/docs/prompt_hacking/offensive_measures/code_injection\",\n",
    "\"https://learnprompting.org/docs/prompt_hacking/offensive_measures/defined_dictionary\",\n",
    "\"https://learnprompting.org/docs/prompt_hacking/offensive_measures/indirect_injection\",\n",
    "\"https://learnprompting.org/docs/prompt_hacking/offensive_measures/obfuscation\",\n",
    "\"https://learnprompting.org/docs/prompt_hacking/offensive_measures/overview\",\n",
    "\"https://learnprompting.org/docs/prompt_hacking/offensive_measures/payload_splitting\",\n",
    "\"https://learnprompting.org/docs/prompt_hacking/offensive_measures/recursive_attack\",\n",
    "\"https://learnprompting.org/docs/prompt_hacking/offensive_measures/virtualization\",\n",
    "\"https://learnprompting.org/docs/reliability/calibration\",\n",
    "\"https://learnprompting.org/docs/reliability/debiasing\",\n",
    "\"https://learnprompting.org/docs/reliability/ensembling\",\n",
    "\"https://learnprompting.org/docs/reliability/intro\",\n",
    "\"https://learnprompting.org/docs/reliability/lm_self_eval\",\n",
    "\"https://learnprompting.org/docs/reliability/math\",\n",
    "\"https://learnprompting.org/docs/tooling/IDEs/conclusion\",\n",
    "\"https://learnprompting.org/docs/tooling/IDEs/DALLE\",\n",
    "\"https://learnprompting.org/docs/tooling/IDEs/dream_studio\",\n",
    "\"https://learnprompting.org/docs/tooling/IDEs/dust\",\n",
    "\"https://learnprompting.org/docs/tooling/IDEs/dyno\",\n",
    "\"https://learnprompting.org/docs/tooling/IDEs/everyprompt\",\n",
    "\"https://learnprompting.org/docs/tooling/IDEs/humanloop\",\n",
    "\"https://learnprompting.org/docs/tooling/IDEs/intro\",\n",
    "\"https://learnprompting.org/docs/tooling/IDEs/kollaprompt\",\n",
    "\"https://learnprompting.org/docs/tooling/IDEs/langchain\",\n",
    "\"https://learnprompting.org/docs/tooling/IDEs/multi\",\n",
    "\"https://learnprompting.org/docs/tooling/IDEs/openprompt\",\n",
    "\"https://learnprompting.org/docs/tooling/IDEs/patience\",\n",
    "\"https://learnprompting.org/docs/tooling/IDEs/playground\",\n",
    "\"https://learnprompting.org/docs/tooling/IDEs/promptchainer\",\n",
    "\"https://learnprompting.org/docs/tooling/IDEs/promptide\",\n",
    "\"https://learnprompting.org/docs/tooling/IDEs/promptmetheus\",\n",
    "\"https://learnprompting.org/docs/tooling/IDEs/promptsai\",\n",
    "\"https://learnprompting.org/docs/tooling/IDEs/promptsandbox\",\n",
    "\"https://learnprompting.org/docs/tooling/IDEs/promptsource\",\n",
    "\"https://learnprompting.org/docs/tooling/IDEs/snorkel\",\n",
    "\"https://learnprompting.org/docs/tooling/IDEs/soaked\",\n",
    "\"https://learnprompting.org/docs/tooling/IDEs/spellbook\",\n",
    "\"https://learnprompting.org/docs/tooling/IDEs/theforgeai\",\n",
    "\"https://learnprompting.org/docs/tooling/tools\",\n",
    "\"https://learnprompting.org/docs/trainable/discretized\",\n",
    "\"https://learnprompting.org/docs/trainable/soft_prompting\",\n",
    "\"https://learnprompting.org/docs/vocabulary\"]\n",
    "len(urls)"
   ]
  },
  {
   "attachments": {},
   "cell_type": "markdown",
   "metadata": {},
   "source": [
    "The easiest way would be to use the WebBaseLoader with the list of curated data sources. The above list has been extracted after filtering out non-essential web-pages like privacy policies and other pages that might contanimate the data. Reference - https://python.langchain.com/docs/modules/data_connection/document_loaders/integrations/web_base\n",
    "\n",
    "Running the below cell will take a while (approx. 1min) as it scrapes the content from all the URLs"
   ]
  },
  {
   "cell_type": "code",
   "execution_count": null,
   "metadata": {},
   "outputs": [
    {
     "ename": "",
     "evalue": "",
     "output_type": "error",
     "traceback": [
      "\u001b[1;31mFailed to start the Kernel. \n",
      "Traceback (most recent call last):\n",
      "  File \"/Users/jaideepgarlyal/.vscode/extensions/ms-toolsai.jupyter-2022.3.1000901801/pythonFiles/vscode_datascience_helpers/daemon/daemon_python.py\", line 54, in _decorator\n",
      "    return func(self, *args, **kwargs)\n",
      "  File \"/Users/jaideepgarlyal/.vscode/extensions/ms-toolsai.jupyter-2022.3.1000901801/pythonFiles/vscode_datascience_helpers/jupyter_daemon.py\", line 108, in m_exec_module_observable\n",
      "    self._start_notebook(args, cwd, env)\n",
      "  File \"/Users/jaideepgarlyal/.vscode/extensions/ms-toolsai.jupyter-2022.3.1000901801/pythonFiles/vscode_datascience_helpers/jupyter_daemon.py\", line 154, in _start_notebook\n",
      "    from notebook import notebookapp as app\n",
      "ImportError: cannot import name 'notebookapp' from 'notebook' (/Users/jaideepgarlyal/Library/Python/3.9/lib/python/site-packages/notebook/__init__.py)\n",
      "\n",
      "Failed to run jupyter as observable with args notebook --no-browser --notebook-dir=\"/Users/jaideepgarlyal/Desktop/SPARK\" --KernelManager.autorestart=False --config=/var/folders/v7/1_4d1g0n5v37m9pr88tj98k00000gn/T/a08b7a4c-e155-4af4-bc79-e872e7852a37/jupyter_notebook_config.py --NotebookApp.iopub_data_rate_limit=10000000000.0. \n",
      "View Jupyter <a href='command:jupyter.viewOutput'>log</a> for further details."
     ]
    }
   ],
   "source": [
    "from langchain.document_loaders import WebBaseLoader\n",
    "loader = WebBaseLoader(urls)\n",
    "data = loader.load()\n",
    "data"
   ]
  },
  {
   "cell_type": "code",
   "execution_count": null,
   "metadata": {},
   "outputs": [
    {
     "ename": "",
     "evalue": "",
     "output_type": "error",
     "traceback": [
      "\u001b[1;31mFailed to start the Kernel. \n",
      "Traceback (most recent call last):\n",
      "  File \"/Users/jaideepgarlyal/.vscode/extensions/ms-toolsai.jupyter-2022.3.1000901801/pythonFiles/vscode_datascience_helpers/daemon/daemon_python.py\", line 54, in _decorator\n",
      "    return func(self, *args, **kwargs)\n",
      "  File \"/Users/jaideepgarlyal/.vscode/extensions/ms-toolsai.jupyter-2022.3.1000901801/pythonFiles/vscode_datascience_helpers/jupyter_daemon.py\", line 108, in m_exec_module_observable\n",
      "    self._start_notebook(args, cwd, env)\n",
      "  File \"/Users/jaideepgarlyal/.vscode/extensions/ms-toolsai.jupyter-2022.3.1000901801/pythonFiles/vscode_datascience_helpers/jupyter_daemon.py\", line 154, in _start_notebook\n",
      "    from notebook import notebookapp as app\n",
      "ImportError: cannot import name 'notebookapp' from 'notebook' (/Users/jaideepgarlyal/Library/Python/3.9/lib/python/site-packages/notebook/__init__.py)\n",
      "\n",
      "Failed to run jupyter as observable with args notebook --no-browser --notebook-dir=\"/Users/jaideepgarlyal/Desktop/SPARK\" --KernelManager.autorestart=False --config=/var/folders/v7/1_4d1g0n5v37m9pr88tj98k00000gn/T/a08b7a4c-e155-4af4-bc79-e872e7852a37/jupyter_notebook_config.py --NotebookApp.iopub_data_rate_limit=10000000000.0. \n",
      "View Jupyter <a href='command:jupyter.viewOutput'>log</a> for further details."
     ]
    }
   ],
   "source": [
    "new = data"
   ]
  },
  {
   "cell_type": "code",
   "execution_count": null,
   "metadata": {},
   "outputs": [
    {
     "ename": "",
     "evalue": "",
     "output_type": "error",
     "traceback": [
      "\u001b[1;31mFailed to start the Kernel. \n",
      "Traceback (most recent call last):\n",
      "  File \"/Users/jaideepgarlyal/.vscode/extensions/ms-toolsai.jupyter-2022.3.1000901801/pythonFiles/vscode_datascience_helpers/daemon/daemon_python.py\", line 54, in _decorator\n",
      "    return func(self, *args, **kwargs)\n",
      "  File \"/Users/jaideepgarlyal/.vscode/extensions/ms-toolsai.jupyter-2022.3.1000901801/pythonFiles/vscode_datascience_helpers/jupyter_daemon.py\", line 108, in m_exec_module_observable\n",
      "    self._start_notebook(args, cwd, env)\n",
      "  File \"/Users/jaideepgarlyal/.vscode/extensions/ms-toolsai.jupyter-2022.3.1000901801/pythonFiles/vscode_datascience_helpers/jupyter_daemon.py\", line 154, in _start_notebook\n",
      "    from notebook import notebookapp as app\n",
      "ImportError: cannot import name 'notebookapp' from 'notebook' (/Users/jaideepgarlyal/Library/Python/3.9/lib/python/site-packages/notebook/__init__.py)\n",
      "\n",
      "Failed to run jupyter as observable with args notebook --no-browser --notebook-dir=\"/Users/jaideepgarlyal/Desktop/SPARK\" --KernelManager.autorestart=False --config=/var/folders/v7/1_4d1g0n5v37m9pr88tj98k00000gn/T/a08b7a4c-e155-4af4-bc79-e872e7852a37/jupyter_notebook_config.py --NotebookApp.iopub_data_rate_limit=10000000000.0. \n",
      "View Jupyter <a href='command:jupyter.viewOutput'>log</a> for further details."
     ]
    }
   ],
   "source": [
    "!pip install tiktoken"
   ]
  },
  {
   "cell_type": "code",
   "execution_count": null,
   "metadata": {},
   "outputs": [
    {
     "ename": "",
     "evalue": "",
     "output_type": "error",
     "traceback": [
      "\u001b[1;31mFailed to start the Kernel. \n",
      "Traceback (most recent call last):\n",
      "  File \"/Users/jaideepgarlyal/.vscode/extensions/ms-toolsai.jupyter-2022.3.1000901801/pythonFiles/vscode_datascience_helpers/daemon/daemon_python.py\", line 54, in _decorator\n",
      "    return func(self, *args, **kwargs)\n",
      "  File \"/Users/jaideepgarlyal/.vscode/extensions/ms-toolsai.jupyter-2022.3.1000901801/pythonFiles/vscode_datascience_helpers/jupyter_daemon.py\", line 108, in m_exec_module_observable\n",
      "    self._start_notebook(args, cwd, env)\n",
      "  File \"/Users/jaideepgarlyal/.vscode/extensions/ms-toolsai.jupyter-2022.3.1000901801/pythonFiles/vscode_datascience_helpers/jupyter_daemon.py\", line 154, in _start_notebook\n",
      "    from notebook import notebookapp as app\n",
      "ImportError: cannot import name 'notebookapp' from 'notebook' (/Users/jaideepgarlyal/Library/Python/3.9/lib/python/site-packages/notebook/__init__.py)\n",
      "\n",
      "Failed to run jupyter as observable with args notebook --no-browser --notebook-dir=\"/Users/jaideepgarlyal/Desktop/SPARK\" --KernelManager.autorestart=False --config=/var/folders/v7/1_4d1g0n5v37m9pr88tj98k00000gn/T/a08b7a4c-e155-4af4-bc79-e872e7852a37/jupyter_notebook_config.py --NotebookApp.iopub_data_rate_limit=10000000000.0. \n",
      "View Jupyter <a href='command:jupyter.viewOutput'>log</a> for further details."
     ]
    }
   ],
   "source": [
    "import tiktoken\n",
    "enc = tiktoken.get_encoding(\"cl100k_base\")\n",
    "enc.encode(\"hello world aaaaaaaaaaaa\")"
   ]
  },
  {
   "cell_type": "markdown",
   "metadata": {},
   "source": [
    "Helper function to count tokens"
   ]
  },
  {
   "cell_type": "code",
   "execution_count": null,
   "metadata": {},
   "outputs": [
    {
     "ename": "",
     "evalue": "",
     "output_type": "error",
     "traceback": [
      "\u001b[1;31mFailed to start the Kernel. \n",
      "Traceback (most recent call last):\n",
      "  File \"/Users/jaideepgarlyal/.vscode/extensions/ms-toolsai.jupyter-2022.3.1000901801/pythonFiles/vscode_datascience_helpers/daemon/daemon_python.py\", line 54, in _decorator\n",
      "    return func(self, *args, **kwargs)\n",
      "  File \"/Users/jaideepgarlyal/.vscode/extensions/ms-toolsai.jupyter-2022.3.1000901801/pythonFiles/vscode_datascience_helpers/jupyter_daemon.py\", line 108, in m_exec_module_observable\n",
      "    self._start_notebook(args, cwd, env)\n",
      "  File \"/Users/jaideepgarlyal/.vscode/extensions/ms-toolsai.jupyter-2022.3.1000901801/pythonFiles/vscode_datascience_helpers/jupyter_daemon.py\", line 154, in _start_notebook\n",
      "    from notebook import notebookapp as app\n",
      "ImportError: cannot import name 'notebookapp' from 'notebook' (/Users/jaideepgarlyal/Library/Python/3.9/lib/python/site-packages/notebook/__init__.py)\n",
      "\n",
      "Failed to run jupyter as observable with args notebook --no-browser --notebook-dir=\"/Users/jaideepgarlyal/Desktop/SPARK\" --KernelManager.autorestart=False --config=/var/folders/v7/1_4d1g0n5v37m9pr88tj98k00000gn/T/a08b7a4c-e155-4af4-bc79-e872e7852a37/jupyter_notebook_config.py --NotebookApp.iopub_data_rate_limit=10000000000.0. \n",
      "View Jupyter <a href='command:jupyter.viewOutput'>log</a> for further details."
     ]
    }
   ],
   "source": [
    "import tiktoken\n",
    "encoding_name = tiktoken.get_encoding(\"cl100k_base\")\n",
    "def num_tokens_from_string(string: str, encoding_name: str) -> int:\n",
    "    \"\"\"Returns the number of tokens in a text string.\"\"\"\n",
    "    encoding = tiktoken.get_encoding(encoding_name)\n",
    "    num_tokens = len(encoding.encode(string))\n",
    "    return num_tokens"
   ]
  },
  {
   "cell_type": "code",
   "execution_count": null,
   "metadata": {},
   "outputs": [
    {
     "ename": "",
     "evalue": "",
     "output_type": "error",
     "traceback": [
      "\u001b[1;31mFailed to start the Kernel. \n",
      "Traceback (most recent call last):\n",
      "  File \"/Users/jaideepgarlyal/.vscode/extensions/ms-toolsai.jupyter-2022.3.1000901801/pythonFiles/vscode_datascience_helpers/daemon/daemon_python.py\", line 54, in _decorator\n",
      "    return func(self, *args, **kwargs)\n",
      "  File \"/Users/jaideepgarlyal/.vscode/extensions/ms-toolsai.jupyter-2022.3.1000901801/pythonFiles/vscode_datascience_helpers/jupyter_daemon.py\", line 108, in m_exec_module_observable\n",
      "    self._start_notebook(args, cwd, env)\n",
      "  File \"/Users/jaideepgarlyal/.vscode/extensions/ms-toolsai.jupyter-2022.3.1000901801/pythonFiles/vscode_datascience_helpers/jupyter_daemon.py\", line 154, in _start_notebook\n",
      "    from notebook import notebookapp as app\n",
      "ImportError: cannot import name 'notebookapp' from 'notebook' (/Users/jaideepgarlyal/Library/Python/3.9/lib/python/site-packages/notebook/__init__.py)\n",
      "\n",
      "Failed to run jupyter as observable with args notebook --no-browser --notebook-dir=\"/Users/jaideepgarlyal/Desktop/SPARK\" --KernelManager.autorestart=False --config=/var/folders/v7/1_4d1g0n5v37m9pr88tj98k00000gn/T/a08b7a4c-e155-4af4-bc79-e872e7852a37/jupyter_notebook_config.py --NotebookApp.iopub_data_rate_limit=10000000000.0. \n",
      "View Jupyter <a href='command:jupyter.viewOutput'>log</a> for further details."
     ]
    }
   ],
   "source": [
    "num_tokens_from_string(\"tiktoken is great!\", \"cl100k_base\")"
   ]
  },
  {
   "cell_type": "code",
   "execution_count": null,
   "metadata": {},
   "outputs": [
    {
     "ename": "",
     "evalue": "",
     "output_type": "error",
     "traceback": [
      "\u001b[1;31mFailed to start the Kernel. \n",
      "Traceback (most recent call last):\n",
      "  File \"/Users/jaideepgarlyal/.vscode/extensions/ms-toolsai.jupyter-2022.3.1000901801/pythonFiles/vscode_datascience_helpers/daemon/daemon_python.py\", line 54, in _decorator\n",
      "    return func(self, *args, **kwargs)\n",
      "  File \"/Users/jaideepgarlyal/.vscode/extensions/ms-toolsai.jupyter-2022.3.1000901801/pythonFiles/vscode_datascience_helpers/jupyter_daemon.py\", line 108, in m_exec_module_observable\n",
      "    self._start_notebook(args, cwd, env)\n",
      "  File \"/Users/jaideepgarlyal/.vscode/extensions/ms-toolsai.jupyter-2022.3.1000901801/pythonFiles/vscode_datascience_helpers/jupyter_daemon.py\", line 154, in _start_notebook\n",
      "    from notebook import notebookapp as app\n",
      "ImportError: cannot import name 'notebookapp' from 'notebook' (/Users/jaideepgarlyal/Library/Python/3.9/lib/python/site-packages/notebook/__init__.py)\n",
      "\n",
      "Failed to run jupyter as observable with args notebook --no-browser --notebook-dir=\"/Users/jaideepgarlyal/Desktop/SPARK\" --KernelManager.autorestart=False --config=/var/folders/v7/1_4d1g0n5v37m9pr88tj98k00000gn/T/a08b7a4c-e155-4af4-bc79-e872e7852a37/jupyter_notebook_config.py --NotebookApp.iopub_data_rate_limit=10000000000.0. \n",
      "View Jupyter <a href='command:jupyter.viewOutput'>log</a> for further details."
     ]
    }
   ],
   "source": [
    "data_list = [i.page_content for i in data]\n",
    "data_string = ', '.join(str(i) for i in data_list)\n",
    "len(data_string)"
   ]
  },
  {
   "cell_type": "code",
   "execution_count": null,
   "metadata": {},
   "outputs": [
    {
     "ename": "",
     "evalue": "",
     "output_type": "error",
     "traceback": [
      "\u001b[1;31mFailed to start the Kernel. \n",
      "Traceback (most recent call last):\n",
      "  File \"/Users/jaideepgarlyal/.vscode/extensions/ms-toolsai.jupyter-2022.3.1000901801/pythonFiles/vscode_datascience_helpers/daemon/daemon_python.py\", line 54, in _decorator\n",
      "    return func(self, *args, **kwargs)\n",
      "  File \"/Users/jaideepgarlyal/.vscode/extensions/ms-toolsai.jupyter-2022.3.1000901801/pythonFiles/vscode_datascience_helpers/jupyter_daemon.py\", line 108, in m_exec_module_observable\n",
      "    self._start_notebook(args, cwd, env)\n",
      "  File \"/Users/jaideepgarlyal/.vscode/extensions/ms-toolsai.jupyter-2022.3.1000901801/pythonFiles/vscode_datascience_helpers/jupyter_daemon.py\", line 154, in _start_notebook\n",
      "    from notebook import notebookapp as app\n",
      "ImportError: cannot import name 'notebookapp' from 'notebook' (/Users/jaideepgarlyal/Library/Python/3.9/lib/python/site-packages/notebook/__init__.py)\n",
      "\n",
      "Failed to run jupyter as observable with args notebook --no-browser --notebook-dir=\"/Users/jaideepgarlyal/Desktop/SPARK\" --KernelManager.autorestart=False --config=/var/folders/v7/1_4d1g0n5v37m9pr88tj98k00000gn/T/a08b7a4c-e155-4af4-bc79-e872e7852a37/jupyter_notebook_config.py --NotebookApp.iopub_data_rate_limit=10000000000.0. \n",
      "View Jupyter <a href='command:jupyter.viewOutput'>log</a> for further details."
     ]
    }
   ],
   "source": [
    "len(data_list)"
   ]
  },
  {
   "cell_type": "code",
   "execution_count": null,
   "metadata": {},
   "outputs": [
    {
     "ename": "",
     "evalue": "",
     "output_type": "error",
     "traceback": [
      "\u001b[1;31mFailed to start the Kernel. \n",
      "Traceback (most recent call last):\n",
      "  File \"/Users/jaideepgarlyal/.vscode/extensions/ms-toolsai.jupyter-2022.3.1000901801/pythonFiles/vscode_datascience_helpers/daemon/daemon_python.py\", line 54, in _decorator\n",
      "    return func(self, *args, **kwargs)\n",
      "  File \"/Users/jaideepgarlyal/.vscode/extensions/ms-toolsai.jupyter-2022.3.1000901801/pythonFiles/vscode_datascience_helpers/jupyter_daemon.py\", line 108, in m_exec_module_observable\n",
      "    self._start_notebook(args, cwd, env)\n",
      "  File \"/Users/jaideepgarlyal/.vscode/extensions/ms-toolsai.jupyter-2022.3.1000901801/pythonFiles/vscode_datascience_helpers/jupyter_daemon.py\", line 154, in _start_notebook\n",
      "    from notebook import notebookapp as app\n",
      "ImportError: cannot import name 'notebookapp' from 'notebook' (/Users/jaideepgarlyal/Library/Python/3.9/lib/python/site-packages/notebook/__init__.py)\n",
      "\n",
      "Failed to run jupyter as observable with args notebook --no-browser --notebook-dir=\"/Users/jaideepgarlyal/Desktop/SPARK\" --KernelManager.autorestart=False --config=/var/folders/v7/1_4d1g0n5v37m9pr88tj98k00000gn/T/a08b7a4c-e155-4af4-bc79-e872e7852a37/jupyter_notebook_config.py --NotebookApp.iopub_data_rate_limit=10000000000.0. \n",
      "View Jupyter <a href='command:jupyter.viewOutput'>log</a> for further details."
     ]
    }
   ],
   "source": [
    "num_tokens_from_string(data_string, \"cl100k_base\")"
   ]
  },
  {
   "cell_type": "code",
   "execution_count": null,
   "metadata": {},
   "outputs": [
    {
     "ename": "",
     "evalue": "",
     "output_type": "error",
     "traceback": [
      "\u001b[1;31mFailed to start the Kernel. \n",
      "Traceback (most recent call last):\n",
      "  File \"/Users/jaideepgarlyal/.vscode/extensions/ms-toolsai.jupyter-2022.3.1000901801/pythonFiles/vscode_datascience_helpers/daemon/daemon_python.py\", line 54, in _decorator\n",
      "    return func(self, *args, **kwargs)\n",
      "  File \"/Users/jaideepgarlyal/.vscode/extensions/ms-toolsai.jupyter-2022.3.1000901801/pythonFiles/vscode_datascience_helpers/jupyter_daemon.py\", line 108, in m_exec_module_observable\n",
      "    self._start_notebook(args, cwd, env)\n",
      "  File \"/Users/jaideepgarlyal/.vscode/extensions/ms-toolsai.jupyter-2022.3.1000901801/pythonFiles/vscode_datascience_helpers/jupyter_daemon.py\", line 154, in _start_notebook\n",
      "    from notebook import notebookapp as app\n",
      "ImportError: cannot import name 'notebookapp' from 'notebook' (/Users/jaideepgarlyal/Library/Python/3.9/lib/python/site-packages/notebook/__init__.py)\n",
      "\n",
      "Failed to run jupyter as observable with args notebook --no-browser --notebook-dir=\"/Users/jaideepgarlyal/Desktop/SPARK\" --KernelManager.autorestart=False --config=/var/folders/v7/1_4d1g0n5v37m9pr88tj98k00000gn/T/a08b7a4c-e155-4af4-bc79-e872e7852a37/jupyter_notebook_config.py --NotebookApp.iopub_data_rate_limit=10000000000.0. \n",
      "View Jupyter <a href='command:jupyter.viewOutput'>log</a> for further details."
     ]
    }
   ],
   "source": [
    "import re\n",
    "\n",
    "def clean_text(text):\n",
    "    # Replace multiple whitespaces (except newlines) with a single space\n",
    "    text = re.sub(r'(?!\\n)\\s+', ' ', text)\n",
    "    \n",
    "    # Replace multiple newlines with a single newline\n",
    "    text = re.sub(r'\\n+', '\\n', text)\n",
    "    \n",
    "    # Remove leading and trailing whitespace\n",
    "    text = text.strip()\n",
    "    \n",
    "    return text\n",
    "\n",
    "# Example usage\n",
    "test = \"\"\"\n",
    "This is some example text.\n",
    "\n",
    "\n",
    "With multiple newlines.\n",
    "\n",
    "\n",
    "And    unnecessary    whitespace.   \"\"\"\n",
    "\n",
    "cleaned_data = clean_text(test)\n",
    "print(cleaned_data)"
   ]
  },
  {
   "cell_type": "code",
   "execution_count": null,
   "metadata": {},
   "outputs": [
    {
     "ename": "",
     "evalue": "",
     "output_type": "error",
     "traceback": [
      "\u001b[1;31mFailed to start the Kernel. \n",
      "Traceback (most recent call last):\n",
      "  File \"/Users/jaideepgarlyal/.vscode/extensions/ms-toolsai.jupyter-2022.3.1000901801/pythonFiles/vscode_datascience_helpers/daemon/daemon_python.py\", line 54, in _decorator\n",
      "    return func(self, *args, **kwargs)\n",
      "  File \"/Users/jaideepgarlyal/.vscode/extensions/ms-toolsai.jupyter-2022.3.1000901801/pythonFiles/vscode_datascience_helpers/jupyter_daemon.py\", line 108, in m_exec_module_observable\n",
      "    self._start_notebook(args, cwd, env)\n",
      "  File \"/Users/jaideepgarlyal/.vscode/extensions/ms-toolsai.jupyter-2022.3.1000901801/pythonFiles/vscode_datascience_helpers/jupyter_daemon.py\", line 154, in _start_notebook\n",
      "    from notebook import notebookapp as app\n",
      "ImportError: cannot import name 'notebookapp' from 'notebook' (/Users/jaideepgarlyal/Library/Python/3.9/lib/python/site-packages/notebook/__init__.py)\n",
      "\n",
      "Failed to run jupyter as observable with args notebook --no-browser --notebook-dir=\"/Users/jaideepgarlyal/Desktop/SPARK\" --KernelManager.autorestart=False --config=/var/folders/v7/1_4d1g0n5v37m9pr88tj98k00000gn/T/a08b7a4c-e155-4af4-bc79-e872e7852a37/jupyter_notebook_config.py --NotebookApp.iopub_data_rate_limit=10000000000.0. \n",
      "View Jupyter <a href='command:jupyter.viewOutput'>log</a> for further details."
     ]
    }
   ],
   "source": [
    "cleaned_page_content = [clean_text(x.page_content) for x in data]\n",
    "len(cleaned_page_content)"
   ]
  },
  {
   "cell_type": "code",
   "execution_count": null,
   "metadata": {},
   "outputs": [
    {
     "ename": "",
     "evalue": "",
     "output_type": "error",
     "traceback": [
      "\u001b[1;31mFailed to start the Kernel. \n",
      "Traceback (most recent call last):\n",
      "  File \"/Users/jaideepgarlyal/.vscode/extensions/ms-toolsai.jupyter-2022.3.1000901801/pythonFiles/vscode_datascience_helpers/daemon/daemon_python.py\", line 54, in _decorator\n",
      "    return func(self, *args, **kwargs)\n",
      "  File \"/Users/jaideepgarlyal/.vscode/extensions/ms-toolsai.jupyter-2022.3.1000901801/pythonFiles/vscode_datascience_helpers/jupyter_daemon.py\", line 108, in m_exec_module_observable\n",
      "    self._start_notebook(args, cwd, env)\n",
      "  File \"/Users/jaideepgarlyal/.vscode/extensions/ms-toolsai.jupyter-2022.3.1000901801/pythonFiles/vscode_datascience_helpers/jupyter_daemon.py\", line 154, in _start_notebook\n",
      "    from notebook import notebookapp as app\n",
      "ImportError: cannot import name 'notebookapp' from 'notebook' (/Users/jaideepgarlyal/Library/Python/3.9/lib/python/site-packages/notebook/__init__.py)\n",
      "\n",
      "Failed to run jupyter as observable with args notebook --no-browser --notebook-dir=\"/Users/jaideepgarlyal/Desktop/SPARK\" --KernelManager.autorestart=False --config=/var/folders/v7/1_4d1g0n5v37m9pr88tj98k00000gn/T/a08b7a4c-e155-4af4-bc79-e872e7852a37/jupyter_notebook_config.py --NotebookApp.iopub_data_rate_limit=10000000000.0. \n",
      "View Jupyter <a href='command:jupyter.viewOutput'>log</a> for further details."
     ]
    }
   ],
   "source": [
    "cleaned_page_content\n",
    "clean_data_string = ', '.join(str(i) for i in cleaned_page_content)\n",
    "len(clean_data_string)"
   ]
  },
  {
   "cell_type": "code",
   "execution_count": null,
   "metadata": {},
   "outputs": [
    {
     "ename": "",
     "evalue": "",
     "output_type": "error",
     "traceback": [
      "\u001b[1;31mFailed to start the Kernel. \n",
      "Traceback (most recent call last):\n",
      "  File \"/Users/jaideepgarlyal/.vscode/extensions/ms-toolsai.jupyter-2022.3.1000901801/pythonFiles/vscode_datascience_helpers/daemon/daemon_python.py\", line 54, in _decorator\n",
      "    return func(self, *args, **kwargs)\n",
      "  File \"/Users/jaideepgarlyal/.vscode/extensions/ms-toolsai.jupyter-2022.3.1000901801/pythonFiles/vscode_datascience_helpers/jupyter_daemon.py\", line 108, in m_exec_module_observable\n",
      "    self._start_notebook(args, cwd, env)\n",
      "  File \"/Users/jaideepgarlyal/.vscode/extensions/ms-toolsai.jupyter-2022.3.1000901801/pythonFiles/vscode_datascience_helpers/jupyter_daemon.py\", line 154, in _start_notebook\n",
      "    from notebook import notebookapp as app\n",
      "ImportError: cannot import name 'notebookapp' from 'notebook' (/Users/jaideepgarlyal/Library/Python/3.9/lib/python/site-packages/notebook/__init__.py)\n",
      "\n",
      "Failed to run jupyter as observable with args notebook --no-browser --notebook-dir=\"/Users/jaideepgarlyal/Desktop/SPARK\" --KernelManager.autorestart=False --config=/var/folders/v7/1_4d1g0n5v37m9pr88tj98k00000gn/T/a08b7a4c-e155-4af4-bc79-e872e7852a37/jupyter_notebook_config.py --NotebookApp.iopub_data_rate_limit=10000000000.0. \n",
      "View Jupyter <a href='command:jupyter.viewOutput'>log</a> for further details."
     ]
    }
   ],
   "source": [
    "num_tokens_from_string(clean_data_string, \"cl100k_base\")"
   ]
  },
  {
   "cell_type": "code",
   "execution_count": null,
   "metadata": {},
   "outputs": [
    {
     "ename": "",
     "evalue": "",
     "output_type": "error",
     "traceback": [
      "\u001b[1;31mFailed to start the Kernel. \n",
      "Traceback (most recent call last):\n",
      "  File \"/Users/jaideepgarlyal/.vscode/extensions/ms-toolsai.jupyter-2022.3.1000901801/pythonFiles/vscode_datascience_helpers/daemon/daemon_python.py\", line 54, in _decorator\n",
      "    return func(self, *args, **kwargs)\n",
      "  File \"/Users/jaideepgarlyal/.vscode/extensions/ms-toolsai.jupyter-2022.3.1000901801/pythonFiles/vscode_datascience_helpers/jupyter_daemon.py\", line 108, in m_exec_module_observable\n",
      "    self._start_notebook(args, cwd, env)\n",
      "  File \"/Users/jaideepgarlyal/.vscode/extensions/ms-toolsai.jupyter-2022.3.1000901801/pythonFiles/vscode_datascience_helpers/jupyter_daemon.py\", line 154, in _start_notebook\n",
      "    from notebook import notebookapp as app\n",
      "ImportError: cannot import name 'notebookapp' from 'notebook' (/Users/jaideepgarlyal/Library/Python/3.9/lib/python/site-packages/notebook/__init__.py)\n",
      "\n",
      "Failed to run jupyter as observable with args notebook --no-browser --notebook-dir=\"/Users/jaideepgarlyal/Desktop/SPARK\" --KernelManager.autorestart=False --config=/var/folders/v7/1_4d1g0n5v37m9pr88tj98k00000gn/T/a08b7a4c-e155-4af4-bc79-e872e7852a37/jupyter_notebook_config.py --NotebookApp.iopub_data_rate_limit=10000000000.0. \n",
      "View Jupyter <a href='command:jupyter.viewOutput'>log</a> for further details."
     ]
    }
   ],
   "source": [
    "for i,j in zip(data, cleaned_data):\n",
    "    i.page_content = j"
   ]
  },
  {
   "cell_type": "code",
   "execution_count": null,
   "metadata": {},
   "outputs": [
    {
     "ename": "",
     "evalue": "",
     "output_type": "error",
     "traceback": [
      "\u001b[1;31mFailed to start the Kernel. \n",
      "Traceback (most recent call last):\n",
      "  File \"/Users/jaideepgarlyal/.vscode/extensions/ms-toolsai.jupyter-2022.3.1000901801/pythonFiles/vscode_datascience_helpers/daemon/daemon_python.py\", line 54, in _decorator\n",
      "    return func(self, *args, **kwargs)\n",
      "  File \"/Users/jaideepgarlyal/.vscode/extensions/ms-toolsai.jupyter-2022.3.1000901801/pythonFiles/vscode_datascience_helpers/jupyter_daemon.py\", line 108, in m_exec_module_observable\n",
      "    self._start_notebook(args, cwd, env)\n",
      "  File \"/Users/jaideepgarlyal/.vscode/extensions/ms-toolsai.jupyter-2022.3.1000901801/pythonFiles/vscode_datascience_helpers/jupyter_daemon.py\", line 154, in _start_notebook\n",
      "    from notebook import notebookapp as app\n",
      "ImportError: cannot import name 'notebookapp' from 'notebook' (/Users/jaideepgarlyal/Library/Python/3.9/lib/python/site-packages/notebook/__init__.py)\n",
      "\n",
      "Failed to run jupyter as observable with args notebook --no-browser --notebook-dir=\"/Users/jaideepgarlyal/Desktop/SPARK\" --KernelManager.autorestart=False --config=/var/folders/v7/1_4d1g0n5v37m9pr88tj98k00000gn/T/a08b7a4c-e155-4af4-bc79-e872e7852a37/jupyter_notebook_config.py --NotebookApp.iopub_data_rate_limit=10000000000.0. \n",
      "View Jupyter <a href='command:jupyter.viewOutput'>log</a> for further details."
     ]
    }
   ],
   "source": [
    "from langchain.text_splitter import TokenTextSplitter\n",
    "text_splitter = TokenTextSplitter(chunk_size=500, chunk_overlap=25)\n",
    "docs = text_splitter.split_documents(data)\n",
    "docs[:10]"
   ]
  },
  {
   "attachments": {},
   "cell_type": "markdown",
   "metadata": {},
   "source": [
    "Clean the text in the chunked documents."
   ]
  },
  {
   "cell_type": "code",
   "execution_count": null,
   "metadata": {},
   "outputs": [
    {
     "ename": "",
     "evalue": "",
     "output_type": "error",
     "traceback": [
      "\u001b[1;31mFailed to start the Kernel. \n",
      "Traceback (most recent call last):\n",
      "  File \"/Users/jaideepgarlyal/.vscode/extensions/ms-toolsai.jupyter-2022.3.1000901801/pythonFiles/vscode_datascience_helpers/daemon/daemon_python.py\", line 54, in _decorator\n",
      "    return func(self, *args, **kwargs)\n",
      "  File \"/Users/jaideepgarlyal/.vscode/extensions/ms-toolsai.jupyter-2022.3.1000901801/pythonFiles/vscode_datascience_helpers/jupyter_daemon.py\", line 108, in m_exec_module_observable\n",
      "    self._start_notebook(args, cwd, env)\n",
      "  File \"/Users/jaideepgarlyal/.vscode/extensions/ms-toolsai.jupyter-2022.3.1000901801/pythonFiles/vscode_datascience_helpers/jupyter_daemon.py\", line 154, in _start_notebook\n",
      "    from notebook import notebookapp as app\n",
      "ImportError: cannot import name 'notebookapp' from 'notebook' (/Users/jaideepgarlyal/Library/Python/3.9/lib/python/site-packages/notebook/__init__.py)\n",
      "\n",
      "Failed to run jupyter as observable with args notebook --no-browser --notebook-dir=\"/Users/jaideepgarlyal/Desktop/SPARK\" --KernelManager.autorestart=False --config=/var/folders/v7/1_4d1g0n5v37m9pr88tj98k00000gn/T/a08b7a4c-e155-4af4-bc79-e872e7852a37/jupyter_notebook_config.py --NotebookApp.iopub_data_rate_limit=10000000000.0. \n",
      "View Jupyter <a href='command:jupyter.viewOutput'>log</a> for further details."
     ]
    }
   ],
   "source": [
    "for i in docs:\n",
    "    i.page_content = clean_text(i.page_content)\n",
    "    \n",
    "len(docs)"
   ]
  },
  {
   "attachments": {},
   "cell_type": "markdown",
   "metadata": {},
   "source": [
    "Count tokens in each chunk."
   ]
  },
  {
   "cell_type": "code",
   "execution_count": null,
   "metadata": {},
   "outputs": [
    {
     "ename": "",
     "evalue": "",
     "output_type": "error",
     "traceback": [
      "\u001b[1;31mFailed to start the Kernel. \n",
      "Traceback (most recent call last):\n",
      "  File \"/Users/jaideepgarlyal/.vscode/extensions/ms-toolsai.jupyter-2022.3.1000901801/pythonFiles/vscode_datascience_helpers/daemon/daemon_python.py\", line 54, in _decorator\n",
      "    return func(self, *args, **kwargs)\n",
      "  File \"/Users/jaideepgarlyal/.vscode/extensions/ms-toolsai.jupyter-2022.3.1000901801/pythonFiles/vscode_datascience_helpers/jupyter_daemon.py\", line 108, in m_exec_module_observable\n",
      "    self._start_notebook(args, cwd, env)\n",
      "  File \"/Users/jaideepgarlyal/.vscode/extensions/ms-toolsai.jupyter-2022.3.1000901801/pythonFiles/vscode_datascience_helpers/jupyter_daemon.py\", line 154, in _start_notebook\n",
      "    from notebook import notebookapp as app\n",
      "ImportError: cannot import name 'notebookapp' from 'notebook' (/Users/jaideepgarlyal/Library/Python/3.9/lib/python/site-packages/notebook/__init__.py)\n",
      "\n",
      "Failed to run jupyter as observable with args notebook --no-browser --notebook-dir=\"/Users/jaideepgarlyal/Desktop/SPARK\" --KernelManager.autorestart=False --config=/var/folders/v7/1_4d1g0n5v37m9pr88tj98k00000gn/T/a08b7a4c-e155-4af4-bc79-e872e7852a37/jupyter_notebook_config.py --NotebookApp.iopub_data_rate_limit=10000000000.0. \n",
      "View Jupyter <a href='command:jupyter.viewOutput'>log</a> for further details."
     ]
    }
   ],
   "source": [
    "for i in docs:\n",
    "    print(num_tokens_from_string(i.page_content, \"cl100k_base\"))"
   ]
  },
  {
   "cell_type": "code",
   "execution_count": null,
   "metadata": {},
   "outputs": [
    {
     "ename": "",
     "evalue": "",
     "output_type": "error",
     "traceback": [
      "\u001b[1;31mFailed to start the Kernel. \n",
      "Traceback (most recent call last):\n",
      "  File \"/Users/jaideepgarlyal/.vscode/extensions/ms-toolsai.jupyter-2022.3.1000901801/pythonFiles/vscode_datascience_helpers/daemon/daemon_python.py\", line 54, in _decorator\n",
      "    return func(self, *args, **kwargs)\n",
      "  File \"/Users/jaideepgarlyal/.vscode/extensions/ms-toolsai.jupyter-2022.3.1000901801/pythonFiles/vscode_datascience_helpers/jupyter_daemon.py\", line 108, in m_exec_module_observable\n",
      "    self._start_notebook(args, cwd, env)\n",
      "  File \"/Users/jaideepgarlyal/.vscode/extensions/ms-toolsai.jupyter-2022.3.1000901801/pythonFiles/vscode_datascience_helpers/jupyter_daemon.py\", line 154, in _start_notebook\n",
      "    from notebook import notebookapp as app\n",
      "ImportError: cannot import name 'notebookapp' from 'notebook' (/Users/jaideepgarlyal/Library/Python/3.9/lib/python/site-packages/notebook/__init__.py)\n",
      "\n",
      "Failed to run jupyter as observable with args notebook --no-browser --notebook-dir=\"/Users/jaideepgarlyal/Desktop/SPARK\" --KernelManager.autorestart=False --config=/var/folders/v7/1_4d1g0n5v37m9pr88tj98k00000gn/T/a08b7a4c-e155-4af4-bc79-e872e7852a37/jupyter_notebook_config.py --NotebookApp.iopub_data_rate_limit=10000000000.0. \n",
      "View Jupyter <a href='command:jupyter.viewOutput'>log</a> for further details."
     ]
    }
   ],
   "source": [
    "from langchain.callbacks import get_openai_callback\n",
    "from langchain.llms import OpenAI"
   ]
  },
  {
   "cell_type": "code",
   "execution_count": null,
   "metadata": {},
   "outputs": [
    {
     "ename": "",
     "evalue": "",
     "output_type": "error",
     "traceback": [
      "\u001b[1;31mFailed to start the Kernel. \n",
      "Traceback (most recent call last):\n",
      "  File \"/Users/jaideepgarlyal/.vscode/extensions/ms-toolsai.jupyter-2022.3.1000901801/pythonFiles/vscode_datascience_helpers/daemon/daemon_python.py\", line 54, in _decorator\n",
      "    return func(self, *args, **kwargs)\n",
      "  File \"/Users/jaideepgarlyal/.vscode/extensions/ms-toolsai.jupyter-2022.3.1000901801/pythonFiles/vscode_datascience_helpers/jupyter_daemon.py\", line 108, in m_exec_module_observable\n",
      "    self._start_notebook(args, cwd, env)\n",
      "  File \"/Users/jaideepgarlyal/.vscode/extensions/ms-toolsai.jupyter-2022.3.1000901801/pythonFiles/vscode_datascience_helpers/jupyter_daemon.py\", line 154, in _start_notebook\n",
      "    from notebook import notebookapp as app\n",
      "ImportError: cannot import name 'notebookapp' from 'notebook' (/Users/jaideepgarlyal/Library/Python/3.9/lib/python/site-packages/notebook/__init__.py)\n",
      "\n",
      "Failed to run jupyter as observable with args notebook --no-browser --notebook-dir=\"/Users/jaideepgarlyal/Desktop/SPARK\" --KernelManager.autorestart=False --config=/var/folders/v7/1_4d1g0n5v37m9pr88tj98k00000gn/T/a08b7a4c-e155-4af4-bc79-e872e7852a37/jupyter_notebook_config.py --NotebookApp.iopub_data_rate_limit=10000000000.0. \n",
      "View Jupyter <a href='command:jupyter.viewOutput'>log</a> for further details."
     ]
    }
   ],
   "source": []
  },
  {
   "attachments": {},
   "cell_type": "markdown",
   "metadata": {},
   "source": [
    "Initialize the embeddings from Cohere."
   ]
  },
  {
   "cell_type": "code",
   "execution_count": null,
   "metadata": {},
   "outputs": [
    {
     "ename": "",
     "evalue": "",
     "output_type": "error",
     "traceback": [
      "\u001b[1;31mFailed to start the Kernel. \n",
      "Traceback (most recent call last):\n",
      "  File \"/Users/jaideepgarlyal/.vscode/extensions/ms-toolsai.jupyter-2022.3.1000901801/pythonFiles/vscode_datascience_helpers/daemon/daemon_python.py\", line 54, in _decorator\n",
      "    return func(self, *args, **kwargs)\n",
      "  File \"/Users/jaideepgarlyal/.vscode/extensions/ms-toolsai.jupyter-2022.3.1000901801/pythonFiles/vscode_datascience_helpers/jupyter_daemon.py\", line 108, in m_exec_module_observable\n",
      "    self._start_notebook(args, cwd, env)\n",
      "  File \"/Users/jaideepgarlyal/.vscode/extensions/ms-toolsai.jupyter-2022.3.1000901801/pythonFiles/vscode_datascience_helpers/jupyter_daemon.py\", line 154, in _start_notebook\n",
      "    from notebook import notebookapp as app\n",
      "ImportError: cannot import name 'notebookapp' from 'notebook' (/Users/jaideepgarlyal/Library/Python/3.9/lib/python/site-packages/notebook/__init__.py)\n",
      "\n",
      "Failed to run jupyter as observable with args notebook --no-browser --notebook-dir=\"/Users/jaideepgarlyal/Desktop/SPARK\" --KernelManager.autorestart=False --config=/var/folders/v7/1_4d1g0n5v37m9pr88tj98k00000gn/T/a08b7a4c-e155-4af4-bc79-e872e7852a37/jupyter_notebook_config.py --NotebookApp.iopub_data_rate_limit=10000000000.0. \n",
      "View Jupyter <a href='command:jupyter.viewOutput'>log</a> for further details."
     ]
    }
   ],
   "source": [
    "from langchain.embeddings import CohereEmbeddings\n",
    "embeddings = CohereEmbeddings(model='embed-english-light-v2.0',cohere_api_key='')"
   ]
  },
  {
   "attachments": {},
   "cell_type": "markdown",
   "metadata": {},
   "source": [
    "Pre-requisite - Create your pinecone index with a unique name and set the dimensionality to the dimension size of your embeddings. For cohere embeddings, the embedding length is 1024.\n",
    "\n",
    "Run the below first, to index your pinecone db.  After indexing, make sure your DB is populated by visiting - https://app.pinecone.io/\n",
    "\n",
    "This will take a while as well (2-3min), as we are embedding and indexing our full knowledge-base. Only run the below cell once."
   ]
  },
  {
   "cell_type": "code",
   "execution_count": null,
   "metadata": {},
   "outputs": [
    {
     "ename": "",
     "evalue": "",
     "output_type": "error",
     "traceback": [
      "\u001b[1;31mFailed to start the Kernel. \n",
      "Traceback (most recent call last):\n",
      "  File \"/Users/jaideepgarlyal/.vscode/extensions/ms-toolsai.jupyter-2022.3.1000901801/pythonFiles/vscode_datascience_helpers/daemon/daemon_python.py\", line 54, in _decorator\n",
      "    return func(self, *args, **kwargs)\n",
      "  File \"/Users/jaideepgarlyal/.vscode/extensions/ms-toolsai.jupyter-2022.3.1000901801/pythonFiles/vscode_datascience_helpers/jupyter_daemon.py\", line 108, in m_exec_module_observable\n",
      "    self._start_notebook(args, cwd, env)\n",
      "  File \"/Users/jaideepgarlyal/.vscode/extensions/ms-toolsai.jupyter-2022.3.1000901801/pythonFiles/vscode_datascience_helpers/jupyter_daemon.py\", line 154, in _start_notebook\n",
      "    from notebook import notebookapp as app\n",
      "ImportError: cannot import name 'notebookapp' from 'notebook' (/Users/jaideepgarlyal/Library/Python/3.9/lib/python/site-packages/notebook/__init__.py)\n",
      "\n",
      "Failed to run jupyter as observable with args notebook --no-browser --notebook-dir=\"/Users/jaideepgarlyal/Desktop/SPARK\" --KernelManager.autorestart=False --config=/var/folders/v7/1_4d1g0n5v37m9pr88tj98k00000gn/T/a08b7a4c-e155-4af4-bc79-e872e7852a37/jupyter_notebook_config.py --NotebookApp.iopub_data_rate_limit=10000000000.0. \n",
      "View Jupyter <a href='command:jupyter.viewOutput'>log</a> for further details."
     ]
    }
   ],
   "source": [
    "from langchain.vectorstores import Pinecone\n",
    "import pinecone\n",
    "\n",
    "# initialize pinecone\n",
    "pinecone.init(\n",
    "    api_key='',  # find at app.pinecone.io\n",
    "    environment='us-west2-gcp',  # next to api key in console,\n",
    ")\n",
    "\n",
    "index_name = \"spark\"\n",
    "\n",
    "docsearch = Pinecone.from_documents(docs, embeddings, index_name=index_name)\n"
   ]
  },
  {
   "attachments": {},
   "cell_type": "markdown",
   "metadata": {},
   "source": [
    "After running the above cell, you can use use it as a retriever."
   ]
  },
  {
   "cell_type": "code",
   "execution_count": null,
   "metadata": {},
   "outputs": [
    {
     "ename": "",
     "evalue": "",
     "output_type": "error",
     "traceback": [
      "\u001b[1;31mFailed to start the Kernel. \n",
      "Traceback (most recent call last):\n",
      "  File \"/Users/jaideepgarlyal/.vscode/extensions/ms-toolsai.jupyter-2022.3.1000901801/pythonFiles/vscode_datascience_helpers/daemon/daemon_python.py\", line 54, in _decorator\n",
      "    return func(self, *args, **kwargs)\n",
      "  File \"/Users/jaideepgarlyal/.vscode/extensions/ms-toolsai.jupyter-2022.3.1000901801/pythonFiles/vscode_datascience_helpers/jupyter_daemon.py\", line 108, in m_exec_module_observable\n",
      "    self._start_notebook(args, cwd, env)\n",
      "  File \"/Users/jaideepgarlyal/.vscode/extensions/ms-toolsai.jupyter-2022.3.1000901801/pythonFiles/vscode_datascience_helpers/jupyter_daemon.py\", line 154, in _start_notebook\n",
      "    from notebook import notebookapp as app\n",
      "ImportError: cannot import name 'notebookapp' from 'notebook' (/Users/jaideepgarlyal/Library/Python/3.9/lib/python/site-packages/notebook/__init__.py)\n",
      "\n",
      "Failed to run jupyter as observable with args notebook --no-browser --notebook-dir=\"/Users/jaideepgarlyal/Desktop/SPARK\" --KernelManager.autorestart=False --config=/var/folders/v7/1_4d1g0n5v37m9pr88tj98k00000gn/T/a08b7a4c-e155-4af4-bc79-e872e7852a37/jupyter_notebook_config.py --NotebookApp.iopub_data_rate_limit=10000000000.0. \n",
      "View Jupyter <a href='command:jupyter.viewOutput'>log</a> for further details."
     ]
    }
   ],
   "source": [
    "# if you already have an index, you can load it like this\n",
    "docsearch = Pinecone.from_existing_index(index_name, embeddings)\n",
    "\n",
    "query = \"What is prompting?\"\n",
    "res = docsearch.similarity_search(query, k=5)\n",
    "retriever = docsearch.as_retriever()\n",
    "res"
   ]
  },
  {
   "cell_type": "code",
   "execution_count": null,
   "metadata": {},
   "outputs": [
    {
     "ename": "",
     "evalue": "",
     "output_type": "error",
     "traceback": [
      "\u001b[1;31mFailed to start the Kernel. \n",
      "Traceback (most recent call last):\n",
      "  File \"/Users/jaideepgarlyal/.vscode/extensions/ms-toolsai.jupyter-2022.3.1000901801/pythonFiles/vscode_datascience_helpers/daemon/daemon_python.py\", line 54, in _decorator\n",
      "    return func(self, *args, **kwargs)\n",
      "  File \"/Users/jaideepgarlyal/.vscode/extensions/ms-toolsai.jupyter-2022.3.1000901801/pythonFiles/vscode_datascience_helpers/jupyter_daemon.py\", line 108, in m_exec_module_observable\n",
      "    self._start_notebook(args, cwd, env)\n",
      "  File \"/Users/jaideepgarlyal/.vscode/extensions/ms-toolsai.jupyter-2022.3.1000901801/pythonFiles/vscode_datascience_helpers/jupyter_daemon.py\", line 154, in _start_notebook\n",
      "    from notebook import notebookapp as app\n",
      "ImportError: cannot import name 'notebookapp' from 'notebook' (/Users/jaideepgarlyal/Library/Python/3.9/lib/python/site-packages/notebook/__init__.py)\n",
      "\n",
      "Failed to run jupyter as observable with args notebook --no-browser --notebook-dir=\"/Users/jaideepgarlyal/Desktop/SPARK\" --KernelManager.autorestart=False --config=/var/folders/v7/1_4d1g0n5v37m9pr88tj98k00000gn/T/a08b7a4c-e155-4af4-bc79-e872e7852a37/jupyter_notebook_config.py --NotebookApp.iopub_data_rate_limit=10000000000.0. \n",
      "View Jupyter <a href='command:jupyter.viewOutput'>log</a> for further details."
     ]
    }
   ],
   "source": []
  },
  {
   "cell_type": "code",
   "execution_count": null,
   "metadata": {},
   "outputs": [
    {
     "ename": "",
     "evalue": "",
     "output_type": "error",
     "traceback": [
      "\u001b[1;31mFailed to start the Kernel. \n",
      "Traceback (most recent call last):\n",
      "  File \"/Users/jaideepgarlyal/.vscode/extensions/ms-toolsai.jupyter-2022.3.1000901801/pythonFiles/vscode_datascience_helpers/daemon/daemon_python.py\", line 54, in _decorator\n",
      "    return func(self, *args, **kwargs)\n",
      "  File \"/Users/jaideepgarlyal/.vscode/extensions/ms-toolsai.jupyter-2022.3.1000901801/pythonFiles/vscode_datascience_helpers/jupyter_daemon.py\", line 108, in m_exec_module_observable\n",
      "    self._start_notebook(args, cwd, env)\n",
      "  File \"/Users/jaideepgarlyal/.vscode/extensions/ms-toolsai.jupyter-2022.3.1000901801/pythonFiles/vscode_datascience_helpers/jupyter_daemon.py\", line 154, in _start_notebook\n",
      "    from notebook import notebookapp as app\n",
      "ImportError: cannot import name 'notebookapp' from 'notebook' (/Users/jaideepgarlyal/Library/Python/3.9/lib/python/site-packages/notebook/__init__.py)\n",
      "\n",
      "Failed to run jupyter as observable with args notebook --no-browser --notebook-dir=\"/Users/jaideepgarlyal/Desktop/SPARK\" --KernelManager.autorestart=False --config=/var/folders/v7/1_4d1g0n5v37m9pr88tj98k00000gn/T/a08b7a4c-e155-4af4-bc79-e872e7852a37/jupyter_notebook_config.py --NotebookApp.iopub_data_rate_limit=10000000000.0. \n",
      "View Jupyter <a href='command:jupyter.viewOutput'>log</a> for further details."
     ]
    }
   ],
   "source": []
  },
  {
   "cell_type": "code",
   "execution_count": null,
   "metadata": {},
   "outputs": [
    {
     "ename": "",
     "evalue": "",
     "output_type": "error",
     "traceback": [
      "\u001b[1;31mFailed to start the Kernel. \n",
      "Traceback (most recent call last):\n",
      "  File \"/Users/jaideepgarlyal/.vscode/extensions/ms-toolsai.jupyter-2022.3.1000901801/pythonFiles/vscode_datascience_helpers/daemon/daemon_python.py\", line 54, in _decorator\n",
      "    return func(self, *args, **kwargs)\n",
      "  File \"/Users/jaideepgarlyal/.vscode/extensions/ms-toolsai.jupyter-2022.3.1000901801/pythonFiles/vscode_datascience_helpers/jupyter_daemon.py\", line 108, in m_exec_module_observable\n",
      "    self._start_notebook(args, cwd, env)\n",
      "  File \"/Users/jaideepgarlyal/.vscode/extensions/ms-toolsai.jupyter-2022.3.1000901801/pythonFiles/vscode_datascience_helpers/jupyter_daemon.py\", line 154, in _start_notebook\n",
      "    from notebook import notebookapp as app\n",
      "ImportError: cannot import name 'notebookapp' from 'notebook' (/Users/jaideepgarlyal/Library/Python/3.9/lib/python/site-packages/notebook/__init__.py)\n",
      "\n",
      "Failed to run jupyter as observable with args notebook --no-browser --notebook-dir=\"/Users/jaideepgarlyal/Desktop/SPARK\" --KernelManager.autorestart=False --config=/var/folders/v7/1_4d1g0n5v37m9pr88tj98k00000gn/T/a08b7a4c-e155-4af4-bc79-e872e7852a37/jupyter_notebook_config.py --NotebookApp.iopub_data_rate_limit=10000000000.0. \n",
      "View Jupyter <a href='command:jupyter.viewOutput'>log</a> for further details."
     ]
    }
   ],
   "source": []
  },
  {
   "cell_type": "code",
   "execution_count": null,
   "metadata": {},
   "outputs": [
    {
     "ename": "",
     "evalue": "",
     "output_type": "error",
     "traceback": [
      "\u001b[1;31mFailed to start the Kernel. \n",
      "Traceback (most recent call last):\n",
      "  File \"/Users/jaideepgarlyal/.vscode/extensions/ms-toolsai.jupyter-2022.3.1000901801/pythonFiles/vscode_datascience_helpers/daemon/daemon_python.py\", line 54, in _decorator\n",
      "    return func(self, *args, **kwargs)\n",
      "  File \"/Users/jaideepgarlyal/.vscode/extensions/ms-toolsai.jupyter-2022.3.1000901801/pythonFiles/vscode_datascience_helpers/jupyter_daemon.py\", line 108, in m_exec_module_observable\n",
      "    self._start_notebook(args, cwd, env)\n",
      "  File \"/Users/jaideepgarlyal/.vscode/extensions/ms-toolsai.jupyter-2022.3.1000901801/pythonFiles/vscode_datascience_helpers/jupyter_daemon.py\", line 154, in _start_notebook\n",
      "    from notebook import notebookapp as app\n",
      "ImportError: cannot import name 'notebookapp' from 'notebook' (/Users/jaideepgarlyal/Library/Python/3.9/lib/python/site-packages/notebook/__init__.py)\n",
      "\n",
      "Failed to run jupyter as observable with args notebook --no-browser --notebook-dir=\"/Users/jaideepgarlyal/Desktop/SPARK\" --KernelManager.autorestart=False --config=/var/folders/v7/1_4d1g0n5v37m9pr88tj98k00000gn/T/a08b7a4c-e155-4af4-bc79-e872e7852a37/jupyter_notebook_config.py --NotebookApp.iopub_data_rate_limit=10000000000.0. \n",
      "View Jupyter <a href='command:jupyter.viewOutput'>log</a> for further details."
     ]
    }
   ],
   "source": []
  }
 ],
 "metadata": {
  "kernelspec": {
   "display_name": "Python 3",
   "language": "python",
   "name": "python3"
  },
  "language_info": {
   "codemirror_mode": {
    "name": "ipython",
    "version": 3
   },
   "file_extension": ".py",
   "mimetype": "text/x-python",
   "name": "python",
   "nbconvert_exporter": "python",
   "pygments_lexer": "ipython3",
   "version": "3.12.1"
  },
  "orig_nbformat": 4
 },
 "nbformat": 4,
 "nbformat_minor": 2
}
